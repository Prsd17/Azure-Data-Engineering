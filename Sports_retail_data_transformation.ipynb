{
  "cells": [
    {
      "cell_type": "code",
      "execution_count": null,
      "metadata": {
        "application/vnd.databricks.v1+cell": {
          "cellMetadata": {
            "byteLimit": 2048000,
            "rowLimit": 10000
          },
          "inputWidgets": {},
          "nuid": "adb3bea5-9da4-4d4d-994a-09d1134a969e",
          "showTitle": false,
          "title": ""
        },
        "id": "OjyZRjEWqlJg"
      },
      "outputs": [],
      "source": [
        "# importing required packages\n",
        "from pyspark.sql.functions import col\n",
        "from pyspark.sql.types import IntegerType, DoubleType, BooleanType, DateType"
      ]
    },
    {
      "cell_type": "code",
      "execution_count": null,
      "metadata": {
        "application/vnd.databricks.v1+cell": {
          "cellMetadata": {
            "byteLimit": 2048000,
            "rowLimit": 10000
          },
          "inputWidgets": {},
          "nuid": "dc51b3e2-4fbf-44ec-98b5-26561e80a20a",
          "showTitle": false,
          "title": ""
        },
        "id": "94cbJIRfqlJj"
      },
      "outputs": [],
      "source": [
        "# connecting to data storage and container\n",
        "configs = {\"fs.azure.account.auth.type\": \"OAuth\",\n",
        "\"fs.azure.account.oauth.provider.type\": \"org.apache.hadoop.fs.azurebfs.oauth2.ClientCredsTokenProvider\",\n",
        "\"fs.azure.account.oauth2.client.id\": \"CLIENT-ID\",\n",
        "\"fs.azure.account.oauth2.client.secret\": 'SECRETKEY',\n",
        "\"fs.azure.account.oauth2.client.endpoint\": \"https://login.microsoftonline.com/TENANT-ID/oauth2/token\"}\n",
        "\n",
        "\n",
        "# mounting point\n",
        "dbutils.fs.mount(\n",
        "source = \"abfss://online-sports-retail-data@onlinesportsretail.dfs.core.windows.net\",\n",
        "mount_point = \"/mnt/retaildata\",\n",
        "extra_configs = configs)"
      ]
    },
    {
      "cell_type": "code",
      "execution_count": null,
      "metadata": {
        "application/vnd.databricks.v1+cell": {
          "cellMetadata": {
            "byteLimit": 2048000,
            "rowLimit": 10000
          },
          "inputWidgets": {},
          "nuid": "a12d93ba-910d-497b-911b-052f9ab8f092",
          "showTitle": false,
          "title": ""
        },
        "id": "jBvcQ8RVqlJk",
        "outputId": "4f816fc8-43c0-4540-e175-c17f2da3a27b"
      },
      "outputs": [
        {
          "output_type": "display_data",
          "data": {
            "text/html": [
              "<style scoped>\n",
              "  .table-result-container {\n",
              "    max-height: 300px;\n",
              "    overflow: auto;\n",
              "  }\n",
              "  table, th, td {\n",
              "    border: 1px solid black;\n",
              "    border-collapse: collapse;\n",
              "  }\n",
              "  th, td {\n",
              "    padding: 5px;\n",
              "  }\n",
              "  th {\n",
              "    text-align: left;\n",
              "  }\n",
              "</style><div class='table-result-container'><table class='table-result'><thead style='background-color: white'><tr><th>path</th><th>name</th><th>size</th><th>modificationTime</th></tr></thead><tbody><tr><td>dbfs:/mnt/retaildata/raw data/</td><td>raw data/</td><td>0</td><td>1694956456000</td></tr><tr><td>dbfs:/mnt/retaildata/transformed data/</td><td>transformed data/</td><td>0</td><td>1694956466000</td></tr></tbody></table></div>"
            ]
          },
          "metadata": {
            "application/vnd.databricks.v1+output": {
              "addedWidgets": {},
              "aggData": [],
              "aggError": "",
              "aggOverflow": false,
              "aggSchema": [],
              "aggSeriesLimitReached": false,
              "aggType": "",
              "arguments": {},
              "columnCustomDisplayInfos": {},
              "data": [
                [
                  "dbfs:/mnt/retaildata/raw data/",
                  "raw data/",
                  0,
                  1694956456000
                ],
                [
                  "dbfs:/mnt/retaildata/transformed data/",
                  "transformed data/",
                  0,
                  1694956466000
                ]
              ],
              "datasetInfos": [],
              "dbfsResultPath": null,
              "isJsonSchema": true,
              "metadata": {
                "isDbfsCommandResult": false
              },
              "overflow": false,
              "plotOptions": {
                "customPlotOptions": {},
                "displayType": "table",
                "pivotAggregation": null,
                "pivotColumns": null,
                "xColumns": null,
                "yColumns": null
              },
              "removedWidgets": [],
              "schema": [
                {
                  "metadata": "{}",
                  "name": "path",
                  "type": "\"string\""
                },
                {
                  "metadata": "{}",
                  "name": "name",
                  "type": "\"string\""
                },
                {
                  "metadata": "{}",
                  "name": "size",
                  "type": "\"long\""
                },
                {
                  "metadata": "{}",
                  "name": "modificationTime",
                  "type": "\"long\""
                }
              ],
              "type": "table"
            }
          }
        }
      ],
      "source": [
        "%fs\n",
        "ls \"/mnt/retaildata\""
      ]
    },
    {
      "cell_type": "code",
      "execution_count": null,
      "metadata": {
        "application/vnd.databricks.v1+cell": {
          "cellMetadata": {
            "byteLimit": 2048000,
            "rowLimit": 10000
          },
          "inputWidgets": {},
          "nuid": "d9ece70c-21f4-4dac-b6fa-d03761a8376d",
          "showTitle": false,
          "title": ""
        },
        "id": "uF3KaKvnqlJk"
      },
      "outputs": [],
      "source": [
        "#reading all csv\n",
        "brand = spark.read.format(\"csv\").option(\"header\",\"true\").load(\"/mnt/retaildata/raw data/brand.csv\")\n",
        "finance = spark.read.format(\"csv\").option(\"header\",\"true\").option(\"inferSchema\",\"true\").load(\"/mnt/retaildata/raw data/finance.csv\")\n",
        "productinfo = spark.read.format(\"csv\").option(\"header\",\"true\").load(\"/mnt/retaildata/raw data/productinfo.csv\")\n",
        "reviews = spark.read.format(\"csv\").option(\"header\",\"true\").option(\"inferSchema\",\"true\").load(\"/mnt/retaildata/raw data/reviews.csv\")\n",
        "traffic = spark.read.format(\"csv\").option(\"header\",\"true\").option(\"inferSchema\",\"true\").load(\"/mnt/retaildata/raw data/traffic.csv\")"
      ]
    },
    {
      "cell_type": "code",
      "execution_count": null,
      "metadata": {
        "application/vnd.databricks.v1+cell": {
          "cellMetadata": {
            "byteLimit": 2048000,
            "rowLimit": 10000
          },
          "inputWidgets": {},
          "nuid": "16f4feb3-2d4b-425d-a5fa-b9f6fda9cbe7",
          "showTitle": false,
          "title": ""
        },
        "id": "wXus8WAaqlJk",
        "outputId": "617b84c5-3aad-4879-d124-13f3e502acbb"
      },
      "outputs": [
        {
          "output_type": "stream",
          "name": "stdout",
          "text": [
            "+----------+-------------------+\n|product_id|       last_visited|\n+----------+-------------------+\n|    AH2430|2018-05-19 15:13:00|\n|    G27341|2018-11-29 16:16:00|\n|    CM0081|2018-02-01 10:27:00|\n|    B44832|2018-09-07 20:06:00|\n|    D98205|2019-07-18 15:26:00|\n+----------+-------------------+\nonly showing top 5 rows\n\n"
          ]
        }
      ],
      "source": [
        "# checking the brand data\n",
        "brand.show(5)"
      ]
    },
    {
      "cell_type": "code",
      "execution_count": null,
      "metadata": {
        "application/vnd.databricks.v1+cell": {
          "cellMetadata": {
            "byteLimit": 2048000,
            "rowLimit": 10000
          },
          "inputWidgets": {},
          "nuid": "980a9836-4163-4eb1-8354-57bec24478b7",
          "showTitle": false,
          "title": ""
        },
        "id": "ZB7vXJwnqlJl",
        "outputId": "f8e71cb9-4407-49ef-c736-9e6707df9c4d"
      },
      "outputs": [
        {
          "output_type": "stream",
          "name": "stdout",
          "text": [
            "+----------+-------------+----------+--------+-------+\n|product_id|listing_price|sale_price|discount|revenue|\n+----------+-------------+----------+--------+-------+\n|    AH2430|         NULL|      NULL|    NULL|   NULL|\n|    G27341|        75.99|     37.99|     0.5|1641.17|\n|    CM0081|         9.99|      5.99|     0.4| 398.93|\n|    B44832|        69.99|     34.99|     0.5|2204.37|\n|    D98205|        79.99|     39.99|     0.5| 5182.7|\n+----------+-------------+----------+--------+-------+\nonly showing top 5 rows\n\n"
          ]
        }
      ],
      "source": [
        "# checking the finance data\n",
        "finance.show(5)"
      ]
    },
    {
      "cell_type": "code",
      "execution_count": null,
      "metadata": {
        "application/vnd.databricks.v1+cell": {
          "cellMetadata": {
            "byteLimit": 2048000,
            "rowLimit": 10000
          },
          "inputWidgets": {},
          "nuid": "cc11b5af-bdad-4e0e-bb95-490c02bc1e08",
          "showTitle": false,
          "title": ""
        },
        "id": "xtLcNpNHqlJl",
        "outputId": "17c4df19-9ff3-4b26-8551-5b35cc072416"
      },
      "outputs": [
        {
          "output_type": "stream",
          "name": "stdout",
          "text": [
            "root\n |-- product_id: string (nullable = true)\n |-- listing_price: double (nullable = true)\n |-- sale_price: double (nullable = true)\n |-- discount: double (nullable = true)\n |-- revenue: double (nullable = true)\n\n"
          ]
        }
      ],
      "source": [
        "#checking data type\n",
        "finance.printSchema()"
      ]
    },
    {
      "cell_type": "code",
      "execution_count": null,
      "metadata": {
        "application/vnd.databricks.v1+cell": {
          "cellMetadata": {
            "byteLimit": 2048000,
            "rowLimit": 10000
          },
          "inputWidgets": {},
          "nuid": "f22f2598-869e-4a9a-b27b-144b14cd8fb4",
          "showTitle": false,
          "title": ""
        },
        "id": "1PR9XFX2qlJl"
      },
      "outputs": [],
      "source": [
        "# or change while reading the data using \"inferSchema\",\"true\"\n",
        "#finance = finance.withColumn(\"listing_price\",col(\"listing_price\").cast(DoubleType()))\n"
      ]
    },
    {
      "cell_type": "code",
      "execution_count": null,
      "metadata": {
        "application/vnd.databricks.v1+cell": {
          "cellMetadata": {
            "byteLimit": 2048000,
            "rowLimit": 10000
          },
          "inputWidgets": {},
          "nuid": "a632f9d2-797c-4f53-b23a-3a00bf7166d0",
          "showTitle": false,
          "title": ""
        },
        "id": "ZgKYobLoqlJm",
        "outputId": "a35eb6ed-f57c-413d-c9cb-603275df3df6"
      },
      "outputs": [
        {
          "output_type": "stream",
          "name": "stdout",
          "text": [
            "+--------------------+----------+--------------------+\n|        product_name|product_id|         description|\n+--------------------+----------+--------------------+\n|                NULL|    AH2430|                NULL|\n|Women's adidas Or...|    G27341|A modern take on ...|\n|Women's adidas Sw...|    CM0081|These adidas Puka...|\n|Women's adidas Sp...|    B44832|Inspired by moder...|\n|Women's adidas Or...|    D98205|This design is in...|\n+--------------------+----------+--------------------+\nonly showing top 5 rows\n\n"
          ]
        }
      ],
      "source": [
        "# checking the productinfo data\n",
        "productinfo.show(5)"
      ]
    },
    {
      "cell_type": "code",
      "execution_count": null,
      "metadata": {
        "application/vnd.databricks.v1+cell": {
          "cellMetadata": {
            "byteLimit": 2048000,
            "rowLimit": 10000
          },
          "inputWidgets": {},
          "nuid": "f424d9e9-6186-466e-91ae-450a0e57c663",
          "showTitle": false,
          "title": ""
        },
        "id": "3RreMERAqlJm",
        "outputId": "d18a2709-a862-44b8-f9eb-eaf11a9e3750"
      },
      "outputs": [
        {
          "output_type": "stream",
          "name": "stdout",
          "text": [
            "+----------+------+-------+\n|product_id|rating|reviews|\n+----------+------+-------+\n|    AH2430|  NULL|   NULL|\n|    G27341|   3.3|   24.0|\n|    CM0081|   2.6|   37.0|\n|    B44832|   4.1|   35.0|\n|    D98205|   3.5|   72.0|\n+----------+------+-------+\nonly showing top 5 rows\n\n"
          ]
        }
      ],
      "source": [
        "# checking review data\n",
        "reviews.show(5)"
      ]
    },
    {
      "cell_type": "code",
      "execution_count": null,
      "metadata": {
        "application/vnd.databricks.v1+cell": {
          "cellMetadata": {
            "byteLimit": 2048000,
            "rowLimit": 10000
          },
          "inputWidgets": {},
          "nuid": "276b44f3-ee82-4044-a805-537e70480535",
          "showTitle": false,
          "title": ""
        },
        "id": "bF74fDC2qlJm",
        "outputId": "b3e32dbe-546c-4f6a-a2b4-d974e47c3e8b"
      },
      "outputs": [
        {
          "output_type": "stream",
          "name": "stdout",
          "text": [
            "root\n |-- product_id: string (nullable = true)\n |-- rating: double (nullable = true)\n |-- reviews: double (nullable = true)\n\n"
          ]
        }
      ],
      "source": [
        "# checking review datatype\n",
        "reviews.printSchema()"
      ]
    },
    {
      "cell_type": "code",
      "execution_count": null,
      "metadata": {
        "application/vnd.databricks.v1+cell": {
          "cellMetadata": {
            "byteLimit": 2048000,
            "rowLimit": 10000
          },
          "inputWidgets": {},
          "nuid": "51ab29c5-4c90-432c-a987-e6c59590a40c",
          "showTitle": false,
          "title": ""
        },
        "id": "j_nE1ZPXqlJm",
        "outputId": "2155a838-b51d-4f2a-cb59-329a23454c92"
      },
      "outputs": [
        {
          "output_type": "stream",
          "name": "stdout",
          "text": [
            "+----------+-------------------+\n|product_id|       last_visited|\n+----------+-------------------+\n|    AH2430|2018-05-19 15:13:00|\n|    G27341|2018-11-29 16:16:00|\n|    CM0081|2018-02-01 10:27:00|\n|    B44832|2018-09-07 20:06:00|\n|    D98205|2019-07-18 15:26:00|\n+----------+-------------------+\nonly showing top 5 rows\n\n"
          ]
        }
      ],
      "source": [
        "# checking traffic data\n",
        "traffic.show(5)"
      ]
    },
    {
      "cell_type": "code",
      "execution_count": null,
      "metadata": {
        "application/vnd.databricks.v1+cell": {
          "cellMetadata": {
            "byteLimit": 2048000,
            "rowLimit": 10000
          },
          "inputWidgets": {},
          "nuid": "06ea67a7-6c2f-4989-bbd4-b3c184b54803",
          "showTitle": false,
          "title": ""
        },
        "id": "_AUIIPZCqlJn",
        "outputId": "677f9c72-a349-43ab-e38e-0475db864066"
      },
      "outputs": [
        {
          "output_type": "stream",
          "name": "stdout",
          "text": [
            "root\n |-- product_id: string (nullable = true)\n |-- last_visited: timestamp (nullable = true)\n\n"
          ]
        }
      ],
      "source": [
        "# checking traffic datatype\n",
        "traffic.printSchema()"
      ]
    },
    {
      "cell_type": "code",
      "execution_count": null,
      "metadata": {
        "application/vnd.databricks.v1+cell": {
          "cellMetadata": {
            "byteLimit": 2048000,
            "rowLimit": 10000
          },
          "inputWidgets": {},
          "nuid": "5d69fff5-361e-4c74-a120-e1fab5946992",
          "showTitle": false,
          "title": ""
        },
        "id": "FaHYlM5KqlJn",
        "outputId": "047a5bea-c12e-45bc-ac85-d51dc5a680ae"
      },
      "outputs": [
        {
          "output_type": "stream",
          "name": "stdout",
          "text": [
            "+----------+--------+\n|product_id| revenue|\n+----------+--------+\n|310805-137|64203.93|\n|    FV7826|37150.45|\n|    FV6794|34990.54|\n|    EG5185|33838.31|\n|    EF9623|31246.88|\n|    EF0893|30454.31|\n|    EG0761|29986.24|\n|    EF2335|29698.65|\n|    EG1071| 28834.4|\n|    EG5933|28762.31|\n+----------+--------+\nonly showing top 10 rows\n\n"
          ]
        }
      ],
      "source": [
        "# Find the top selling product in finance table\n",
        "#most_reviewed_product = reviews.orderBy(\"reviews\", ascending=False).select(\"product_id\",\"reviews\").show(10)\n",
        "top_selling_product = finance.orderBy(\"revenue\", ascending=False).select(\"product_id\",\"revenue\").show(10)"
      ]
    },
    {
      "cell_type": "code",
      "execution_count": null,
      "metadata": {
        "application/vnd.databricks.v1+cell": {
          "cellMetadata": {
            "byteLimit": 2048000,
            "rowLimit": 10000
          },
          "inputWidgets": {},
          "nuid": "b02425cc-b1d2-4466-b83b-47bc8a71672c",
          "showTitle": false,
          "title": ""
        },
        "id": "WCRHB1tNqlJn"
      },
      "outputs": [],
      "source": [
        "# updating transformed file back in data storage\n",
        "brand.repartition(1).write.mode(\"overwrite\").option(\"header\",'true').csv(\"/mnt/retaildata/transformed data/brand\")\n",
        "finance.repartition(1).write.mode(\"overwrite\").option(\"header\",'true').csv(\"/mnt/retaildata/transformed data/finance\")\n",
        "productinfo.repartition(1).write.mode(\"overwrite\").option(\"header\",'true').csv(\"/mnt/retaildata/transformed data/productinfo\")\n",
        "reviews.repartition(1).write.mode(\"overwrite\").option(\"header\",'true').csv(\"/mnt/retaildata/transformed data/reviews\")\n",
        "traffic.repartition(1).write.mode(\"overwrite\").option(\"header\",'true').csv(\"/mnt/retaildata/transformed data/traffic\")"
      ]
    },
    {
      "cell_type": "code",
      "execution_count": null,
      "metadata": {
        "application/vnd.databricks.v1+cell": {
          "cellMetadata": {},
          "inputWidgets": {},
          "nuid": "69111a9e-8f6b-4c50-85ef-4d77dface6c7",
          "showTitle": false,
          "title": ""
        },
        "id": "X-4PeCnxqlJn"
      },
      "outputs": [],
      "source": []
    }
  ],
  "metadata": {
    "application/vnd.databricks.v1+notebook": {
      "dashboards": [],
      "language": "python",
      "notebookMetadata": {
        "mostRecentlyExecutedCommandWithImplicitDF": {
          "commandId": 978958804986614,
          "dataframes": [
            "_sqldf"
          ]
        },
        "pythonIndentUnit": 4
      },
      "notebookName": "Sports-retail-data 14:52:19",
      "widgets": {}
    },
    "colab": {
      "provenance": []
    }
  },
  "nbformat": 4,
  "nbformat_minor": 0
}